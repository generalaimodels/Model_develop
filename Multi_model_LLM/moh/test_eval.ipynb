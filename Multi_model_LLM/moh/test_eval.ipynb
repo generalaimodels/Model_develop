{
 "cells": [
  {
   "cell_type": "code",
   "execution_count": 1,
   "metadata": {},
   "outputs": [],
   "source": [
    "import os\n",
    "from tqdm import tqdm\n",
    "from data_handler import DataHandler\n",
    "from evaluation import get_evaluation\n",
    "from image_processor import ImageProcessor\n",
    "from model_handler import get_model"
   ]
  },
  {
   "cell_type": "code",
   "execution_count": 2,
   "metadata": {},
   "outputs": [],
   "source": [
    "def main(model_name, model_size, model_path, device_map, data_base_path, output_base_path):\n",
    "    # Initialize model handler, data handler, and image processor\n",
    "    model = get_model(model_name, model_size, model_path, device_map)\n",
    "    data_handler = DataHandler(data_base_path)\n",
    "    image_processor = ImageProcessor()\n",
    "\n",
    "    # Evaluation settings and data types\n",
    "    settings = [\"default\", \"student-forcing\", \"teacher-forcing\", \"single\"]\n",
    "    data_types = [\"train\", \"validation\"]\n",
    "\n",
    "    # Iterate through each setting and data type\n",
    "    for setting in tqdm(settings, desc=\"Settings\"):\n",
    "        for data_type in tqdm(data_types, desc=f\"Data Types for {setting}\", leave=False):\n",
    "            # Load the data for the current data type\n",
    "            data = data_handler.load_data(data_type)\n",
    "            \n",
    "            # Get the evaluation class for the current setting\n",
    "            evaluation_class = get_evaluation(setting)\n",
    "            \n",
    "            # Define the output path\n",
    "            output_path = os.path.join(output_base_path, model_name+model_size, setting, data_type)\n",
    "            \n",
    "            # Process each data file\n",
    "            for file_name, entries in tqdm(data.items(), desc=f\"Files for {data_type}\", leave=False):\n",
    "                processed_data = []\n",
    "                photo2answer = {}\n",
    "                acc_list = [0, 0, 0, 0, 0]\n",
    "                evaluator = evaluation_class(model, image_processor, data_base_path, data_type)\n",
    "\n",
    "                try:\n",
    "                    entries = entries[:5]\n",
    "                    for entry in tqdm(entries, desc=f\"Entries for {file_name}\", leave=False):\n",
    "                        evaluator.process_entry(entry, acc_list, photo2answer)\n",
    "                        processed_data.append(entry)\n",
    "\n",
    "                        # Save partial results after processing each entry\n",
    "                        metrics = evaluator.calculate_metrics(acc_list)\n",
    "                        data_handler.save_partial_results(processed_data, metrics, photo2answer, output_path, file_name)\n",
    "                    # data_handler.save_final_results(processed_data, metrics, photo2answer, output_path, file_name)\n",
    "                except Exception as e:\n",
    "                    print(f\"Error processing file {file_name} in setting {setting}, data type {data_type}: {e}\")"
   ]
  },
  {
   "cell_type": "code",
   "execution_count": 3,
   "metadata": {},
   "outputs": [
    {
     "name": "stderr",
     "output_type": "stream",
     "text": [
      "You set `add_prefix_space`. The tokenizer needs to be converted from the slow tokenizers\n",
      "The model weights are not tied. Please use the `tie_weights` method before using the `infer_auto_device` function.\n"
     ]
    },
    {
     "data": {
      "application/vnd.jupyter.widget-view+json": {
       "model_id": "f4b538ad564748b48167215e3ea1f45e",
       "version_major": 2,
       "version_minor": 0
      },
      "text/plain": [
       "Loading checkpoint shards:   0%|          | 0/15 [00:00<?, ?it/s]"
      ]
     },
     "metadata": {},
     "output_type": "display_data"
    },
    {
     "name": "stderr",
     "output_type": "stream",
     "text": [
      "Settings:   0%|          | 0/4 [00:00<?, ?it/s]\n",
      "\u001b[A\n",
      "\n",
      "\u001b[A\u001b[A\n",
      "\n",
      "\u001b[A\u001b[A"
     ]
    },
    {
     "name": "stdout",
     "output_type": "stream",
     "text": [
      "predicted_class:  ['bookcase', 'bookcase', 'bookcase', 'bookcase', 'bookcase']\n",
      "Results saved to /scratch/rqa8sm/ROPE/output-experiments/llavanext34b/default/train/AAAAB/AAAAB_data.json\n",
      "Metrics saved to /scratch/rqa8sm/ROPE/output-experiments/llavanext34b/default/train/AAAAB/AAAAB_metrics.json\n",
      "Photo2Answer mapping saved to /scratch/rqa8sm/ROPE/output-experiments/llavanext34b/default/train/AAAAB/AAAAB_photo2answer.json\n"
     ]
    },
    {
     "name": "stderr",
     "output_type": "stream",
     "text": [
      "\n",
      "\n",
      "\u001b[A\u001b[A"
     ]
    },
    {
     "name": "stdout",
     "output_type": "stream",
     "text": [
      "predicted_class:  ['rock', 'rock', 'rock', 'rock', 'rock']\n",
      "Results saved to /scratch/rqa8sm/ROPE/output-experiments/llavanext34b/default/train/AAAAB/AAAAB_data.json\n",
      "Metrics saved to /scratch/rqa8sm/ROPE/output-experiments/llavanext34b/default/train/AAAAB/AAAAB_metrics.json\n",
      "Photo2Answer mapping saved to /scratch/rqa8sm/ROPE/output-experiments/llavanext34b/default/train/AAAAB/AAAAB_photo2answer.json\n"
     ]
    },
    {
     "name": "stderr",
     "output_type": "stream",
     "text": [
      "\n",
      "\n",
      "\u001b[A\u001b[A"
     ]
    },
    {
     "name": "stdout",
     "output_type": "stream",
     "text": [
      "predicted_class:  ['rock', 'rock', 'rock', 'rock', 'rock']\n",
      "Results saved to /scratch/rqa8sm/ROPE/output-experiments/llavanext34b/default/train/AAAAB/AAAAB_data.json\n",
      "Metrics saved to /scratch/rqa8sm/ROPE/output-experiments/llavanext34b/default/train/AAAAB/AAAAB_metrics.json\n",
      "Photo2Answer mapping saved to /scratch/rqa8sm/ROPE/output-experiments/llavanext34b/default/train/AAAAB/AAAAB_photo2answer.json\n"
     ]
    },
    {
     "name": "stderr",
     "output_type": "stream",
     "text": [
      "\n",
      "\n",
      "\u001b[A\u001b[A"
     ]
    },
    {
     "name": "stdout",
     "output_type": "stream",
     "text": [
      "predicted_class:  ['building', 'window', 'window', 'window', 'window']\n",
      "Results saved to /scratch/rqa8sm/ROPE/output-experiments/llavanext34b/default/train/AAAAB/AAAAB_data.json\n",
      "Metrics saved to /scratch/rqa8sm/ROPE/output-experiments/llavanext34b/default/train/AAAAB/AAAAB_metrics.json\n",
      "Photo2Answer mapping saved to /scratch/rqa8sm/ROPE/output-experiments/llavanext34b/default/train/AAAAB/AAAAB_photo2answer.json\n"
     ]
    },
    {
     "name": "stderr",
     "output_type": "stream",
     "text": [
      "\n",
      "\n",
      "\u001b[A\u001b[A\n",
      "\n",
      "\u001b[A\u001b[A\n",
      "\u001b[A"
     ]
    },
    {
     "name": "stdout",
     "output_type": "stream",
     "text": [
      "predicted_class:  ['book', 'book', 'book', 'book', 'book']\n",
      "Results saved to /scratch/rqa8sm/ROPE/output-experiments/llavanext34b/default/train/AAAAB/AAAAB_data.json\n",
      "Metrics saved to /scratch/rqa8sm/ROPE/output-experiments/llavanext34b/default/train/AAAAB/AAAAB_metrics.json\n",
      "Photo2Answer mapping saved to /scratch/rqa8sm/ROPE/output-experiments/llavanext34b/default/train/AAAAB/AAAAB_photo2answer.json\n"
     ]
    },
    {
     "name": "stderr",
     "output_type": "stream",
     "text": [
      "\n",
      "\n",
      "\u001b[A\u001b[A\n",
      "\n",
      "\u001b[A\u001b[A"
     ]
    },
    {
     "name": "stdout",
     "output_type": "stream",
     "text": [
      "predicted_class:  ['bookcase', 'bookcase', 'bookcase', 'bookcase', 'bookcase']\n",
      "Results saved to /scratch/rqa8sm/ROPE/output-experiments/llavanext34b/default/train/BAAAA/BAAAA_data.json\n",
      "Metrics saved to /scratch/rqa8sm/ROPE/output-experiments/llavanext34b/default/train/BAAAA/BAAAA_metrics.json\n",
      "Photo2Answer mapping saved to /scratch/rqa8sm/ROPE/output-experiments/llavanext34b/default/train/BAAAA/BAAAA_photo2answer.json\n"
     ]
    },
    {
     "name": "stderr",
     "output_type": "stream",
     "text": [
      "\n",
      "\n",
      "\u001b[A\u001b[A"
     ]
    },
    {
     "name": "stdout",
     "output_type": "stream",
     "text": [
      "predicted_class:  ['rock', 'rock', 'rock', 'rock', 'rock']\n",
      "Results saved to /scratch/rqa8sm/ROPE/output-experiments/llavanext34b/default/train/BAAAA/BAAAA_data.json\n",
      "Metrics saved to /scratch/rqa8sm/ROPE/output-experiments/llavanext34b/default/train/BAAAA/BAAAA_metrics.json\n",
      "Photo2Answer mapping saved to /scratch/rqa8sm/ROPE/output-experiments/llavanext34b/default/train/BAAAA/BAAAA_photo2answer.json\n"
     ]
    }
   ],
   "source": [
    "# Define parameters\n",
    "model_name = \"llavanext\"\n",
    "model_size = \"34b\"\n",
    "model_path = \"/scratch/rqa8sm/ROPE/llava-v1.6-34b-hf\"\n",
    "device_map = \"balanced\"\n",
    "data_base_path = \"/scratch/rqa8sm/ROPE/ROPE\"\n",
    "output_base_path = \"/scratch/rqa8sm/ROPE/output-experiments\"\n",
    "\n",
    "# Run the main function\n",
    "main(model_name, model_size, model_path, device_map, data_base_path, output_base_path)"
   ]
  },
  {
   "cell_type": "code",
   "execution_count": null,
   "metadata": {},
   "outputs": [],
   "source": []
  }
 ],
 "metadata": {
  "kernelspec": {
   "display_name": "Python 3",
   "language": "python",
   "name": "python3"
  },
  "language_info": {
   "codemirror_mode": {
    "name": "ipython",
    "version": 3
   },
   "file_extension": ".py",
   "mimetype": "text/x-python",
   "name": "python",
   "nbconvert_exporter": "python",
   "pygments_lexer": "ipython3",
   "version": "3.11.9"
  },
  "orig_nbformat": 4
 },
 "nbformat": 4,
 "nbformat_minor": 2
}
