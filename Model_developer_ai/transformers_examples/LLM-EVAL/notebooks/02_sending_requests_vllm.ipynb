{
  "cells": [
    {
      "cell_type": "markdown",
      "metadata": {
        "id": "sMojZkdhUWrM"
      },
      "source": [
        "## Send request for vLLM"
      ]
    },
    {
      "cell_type": "code",
      "execution_count": null,
      "metadata": {
        "id": "dLay0awQD4x1"
      },
      "outputs": [],
      "source": [
        "# Initialize notebook_url variable with the copied url\n",
        "\n",
        "# Example: notebook_url = 'https://c363-34-125-127-225.ngrok.io'\n",
        "\n",
        "notebook_url = ''\n",
        "url = f'{notebook_url}/v1/completions'"
      ]
    },
    {
      "cell_type": "code",
      "execution_count": null,
      "metadata": {
        "id": "kG-Zf_aVD66z"
      },
      "outputs": [],
      "source": [
        "import requests\n",
        "\n",
        "prompt_text = \"Classify the following sentence that is delimited with triple backticks. ### Sentence:I was wondering if anyone out there could enlighten me on this car I saw the other day. It was a 2-door sports car, looked to be from the late 60s/ early 70s. It was called a Bricklin. The doors were really small. In addition, the front bumper was separate from the rest of the body. This is all I know. If anyone can tellme a model name, engine specs, years of production, where this car is made, history, or whatever info you have on this funky looking car, please e-mail. ### Class:\"\n",
        "body = {\n",
        "    \"model\": \"mariiaponom/test_colab\",\n",
        "    \"prompt\": prompt_text,\n",
        "    \"max_tokens\": 7,\n",
        "    \"temperature\": 0\n",
        "}\n",
        "\n",
        "response = requests.post(url, json=body)"
      ]
    }
  ],
  "metadata": {
    "accelerator": "GPU",
    "colab": {
      "gpuType": "T4",
      "provenance": []
    },
    "kernelspec": {
      "display_name": "Python 3",
      "name": "python3"
    },
    "language_info": {
      "name": "python"
    }
  },
  "nbformat": 4,
  "nbformat_minor": 0
}
