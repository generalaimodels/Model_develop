{
 "cells": [
  {
   "cell_type": "markdown",
   "metadata": {},
   "source": [
    "\n",
    "\n",
    "| Operation                           | Equivalent Operation    |\n",
    "|-------------------------------------|-------------------------|\n",
    "| x = x.at[idx].set(y)               | x[idx] = y              |\n",
    "| x = x.at[idx].add(y)               | x[idx] += y             |\n",
    "| x = x.at[idx].multiply(y)          | x[idx] *= y             |\n",
    "| x = x.at[idx].divide(y)            | x[idx] /= y             |\n",
    "| x = x.at[idx].power(y)             | x[idx] **= y            |\n",
    "| x = x.at[idx].min(y)               | x[idx] = min(x[idx], y) |\n",
    "| x = x.at[idx].max(y)               | x[idx] = max(x[idx], y) |\n",
    "| x = x.at[idx].apply(ufunc)         | ufunc.at(x, idx)        |\n",
    "| x = x.at[idx].get()                | x[idx]                  |\n",
    "\n"
   ]
  },
  {
   "cell_type": "code",
   "execution_count": 31,
   "metadata": {},
   "outputs": [
    {
     "data": {
      "text/plain": [
       "Array([0.  , 0.01, 0.02, 0.03, 0.04], dtype=float32)"
      ]
     },
     "execution_count": 31,
     "metadata": {},
     "output_type": "execute_result"
    }
   ],
   "source": [
    "import jax.numpy as jnp\n",
    "x=jnp.arange(0,1000,1)\n",
    "y=x.at[10].get()\n",
    "z=jnp.fft.fftfreq(100)\n",
    "z[:5]\n",
    "\n"
   ]
  },
  {
   "cell_type": "code",
   "execution_count": null,
   "metadata": {},
   "outputs": [],
   "source": []
  }
 ],
 "metadata": {
  "kernelspec": {
   "display_name": "Python 3",
   "language": "python",
   "name": "python3"
  },
  "language_info": {
   "codemirror_mode": {
    "name": "ipython",
    "version": 3
   },
   "file_extension": ".py",
   "mimetype": "text/x-python",
   "name": "python",
   "nbconvert_exporter": "python",
   "pygments_lexer": "ipython3",
   "version": "3.10.11"
  }
 },
 "nbformat": 4,
 "nbformat_minor": 2
}
