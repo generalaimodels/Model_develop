{
 "cells": [
  {
   "cell_type": "markdown",
   "metadata": {},
   "source": [
    "| Module                     | Function          | Description                                                             | Import Statement                                   |\n",
    "|----------------------------|-------------------|-------------------------------------------------------------------------|----------------------------------------------------|\n",
    "| Key Creation & Manipulation| PRNGKey           | Create a pseudo-random number generator (PRNG) key given an integer seed| `from jax.random import PRNGKey`                  |\n",
    "|                            | key               | Create a pseudo-random number generator (PRNG) key given an integer seed| `from jax.random import key`                      |\n",
    "|                            | key_data          | Recover the bits of key data underlying a PRNG key array                | `from jax.random import key_data`                 |\n",
    "|                            | wrap_key_data     | Wrap an array of key data bits into a PRNG key array                    | `from jax.random import wrap_key_data`            |\n",
    "|                            | fold_in           | Folds in data to a PRNG key to form a new PRNG key                       | `from jax.random import fold_in`                  |\n",
    "|                            | split             | Splits a PRNG key into num new keys by adding a leading axis            | `from jax.random import split`                    |\n",
    "|                            | clone             | Clone a key for reuse                                                   | `from jax.random import clone`                    |\n",
    "| Random Samplers           | ball              | Sample uniformly from the unit Lp ball                                   | `from jax.random import ball`                     |\n",
    "|                            | bernoulli         | Sample Bernoulli random values with given shape and mean                 | `from jax.random import bernoulli`                |\n",
    "|                            | beta              | Sample Beta random values with given shape and float dtype               | `from jax.random import beta`                     |\n",
    "|                            | binomial          | Sample Binomial random values with given shape and float dtype           | `from jax.random import binomial`                 |\n",
    "|                            | bits              | Sample uniform bits in the form of unsigned integers                     | `from jax.random import bits`                     |\n",
    "|                            | categorical       | Sample random values from categorical distributions                      | `from jax.random import categorical`              |\n",
    "|                            | cauchy            | Sample Cauchy random values with given shape and float dtype            | `from jax.random import cauchy`                   |\n",
    "|                            | chisquare         | Sample Chisquare random values with given shape and float dtype         | `from jax.random import chisquare`                |\n",
    "|                            | choice            | Generates a random sample from a given array                              | `from jax.random import choice`                   |\n",
    "|                            | dirichlet         | Sample Dirichlet random values with given shape and float dtype          | `from jax.random import dirichlet`                |\n",
    "|                            | double_sided_maxwell | Sample from a double sided Maxwell distribution                      | `from jax.random import double_sided_maxwell`     |\n",
    "|                            | exponential       | Sample Exponential random values with given shape and float dtype        | `from jax.random import exponential`              |\n",
    "|                            | f                 | Sample F-distribution random values with given shape and float dtype     | `from jax.random import f`                        |\n",
    "|                            | gamma             | Sample Gamma random values with given shape and float dtype              | `from jax.random import gamma`                    |\n",
    "|                            | generalized_normal| Sample from the generalized normal distribution                          | `from jax.random import generalized_normal`       |\n",
    "|                            | geometric         | Sample Geometric random values with given shape and float dtype          | `from jax.random import geometric`                |\n",
    "|                            | gumbel            | Sample Gumbel random values with given shape and float dtype             | `from jax.random import gumbel`                   |\n",
    "|                            | laplace           | Sample Laplace random values with given shape and float dtype            | `from jax.random import laplace`                  |\n",
    "|                            | loggamma          | Sample log-gamma random values with given shape and float dtype          | `from jax.random import loggamma`                 |\n",
    "|                            | logistic          | Sample logistic random values with given shape and float dtype           | `from jax.random import logistic`                 |\n",
    "|                            | lognormal         | Sample lognormal random values with given shape and float dtype          | `from jax.random import lognormal`                |\n",
    "|                            | maxwell           | Sample from a one sided Maxwell distribution                             | `from jax.random import maxwell`                  |\n",
    "|                            | multivariate_normal | Sample multivariate normal random values with given mean and covariance  | `from jax.random import multivariate_normal`     |\n",
    "|                            | normal            | Sample standard normal random values with given shape and float dtype    | `from jax.random import normal`                   |\n",
    "|                            | orthogonal        | Sample uniformly from the orthogonal group O(n)                           | `from jax.random import orthogonal`               |\n",
    "|                            | pareto            | Sample Pareto random values with given shape and float dtype             | `from jax.random import pareto`                   |\n",
    "|                            | permutation       | Returns a randomly permuted array or range                                | `from jax.random import permutation`              |\n",
    "|                            | poisson           | Sample Poisson random values with given shape and integer dtype           | `from jax.random import poisson`                  |\n",
    "|                            | rademacher        | Sample from a Rademacher distribution                                    | `from jax.random import rademacher`               |\n",
    "|                            | randint           | Sample uniform random values in [minval, maxval) with given shape/dtype  | `from jax.random import randint`                  |\n",
    "|                            | rayleigh          | Sample Rayleigh random values with given shape and float dtype           | `from jax.random import rayleigh`                 |\n",
    "|                            | t                 | Sample Student's t random values with given shape and float dtype         | `from jax.random import t`                        |\n",
    "|                            | triangular        | Sample Triangular random values with given shape and float dtype         | `from jax.random import triangular`               |\n",
    "|                            | truncated_normal  | Sample truncated standard normal random values with given shape and dtype| `from jax.random import truncated_normal`         |\n",
    "|                            | uniform           | Sample uniform random values in [minval, maxval) with given shape/dtype  | `from jax.random import uniform`                  |\n",
    "|                            | wald              | Sample Wald random values with given shape and float dtype               | `from jax.random import wald`                     |\n",
    "|                            | weibull_min       | Sample from a Weibull distribution                                        | `from jax.random import weibull_min`              |\n"
   ]
  },
  {
   "cell_type": "markdown",
   "metadata": {},
   "source": [
    "| Module             | Function           | Description                                                     | Import Statement                                   |\n",
    "|--------------------|--------------------|-----------------------------------------------------------------|----------------------------------------------------|\n",
    "| Activation         | relu               | Rectified linear unit activation function                      | `from flax.nn.activation import relu`             |\n",
    "|                    | relu6              | Rectified Linear Unit 6 activation function                    | `from flax.nn.activation import relu6`            |\n",
    "|                    | sigmoid            | Sigmoid activation function                                     | `from flax.nn.activation import sigmoid`          |\n",
    "|                    | softplus           | Softplus activation function                                    | `from flax.nn.activation import softplus`         |\n",
    "|                    | sparse_plus        | Sparse plus function                                            | `from flax.nn.activation import sparse_plus`      |\n",
    "|                    | soft_sign          | Soft-sign activation function                                   | `from flax.nn.activation import soft_sign`        |\n",
    "|                    | silu               | SiLU (aka swish) activation function                            | `from flax.nn.activation import silu`             |\n",
    "|                    | swish              | SiLU (aka swish) activation function                            | `from flax.nn.activation import swish`            |\n",
    "|                    | log_sigmoid        | Log-sigmoid activation function                                 | `from flax.nn.activation import log_sigmoid`      |\n",
    "|                    | leaky_relu         | Leaky rectified linear unit activation function                 | `from flax.nn.activation import leaky_relu`       |\n",
    "|                    | hard_sigmoid       | Hard Sigmoid activation function                                | `from flax.nn.activation import hard_sigmoid`     |\n",
    "|                    | hard_silu          | Hard SiLU (swish) activation function                          | `from flax.nn.activation import hard_silu`        |\n",
    "|                    | hard_swish         | Hard SiLU (swish) activation function                          | `from flax.nn.activation import hard_swish`       |\n",
    "|                    | hard_tanh          | Hard Tanh activation function                                  | `from flax.nn.activation import hard_tanh`        |\n",
    "|                    | elu                | Exponential linear unit activation function                    | `from flax.nn.activation import elu`              |\n",
    "|                    | celu               | Continuously-differentiable exponential linear unit activation | `from flax.nn.activation import celu`             |\n",
    "|                    | selu               | Scaled exponential linear unit activation                      | `from flax.nn.activation import selu`             |\n",
    "|                    | gelu               | Gaussian error linear unit activation function                  | `from flax.nn.activation import gelu`             |\n",
    "|                    | glu                | Gated linear unit activation function                          | `from flax.nn.activation import glu`              |\n",
    "|                    | squareplus         | Squareplus activation function                                  | `from flax.nn.activation import squareplus`       |\n",
    "| Other Functions    | softmax            | Softmax function                                                | `from flax.nn.activation import softmax`          |\n",
    "|                    | log_softmax        | Log-Softmax function                                            | `from flax.nn.activation import log_softmax`      |\n",
    "|                    | logsumexp          | Compute the log of the sum of exponentials of input elements    | `from flax.nn.activation import logsumexp`        |\n",
    "|                    | standardize        | Normalizes an array by subtracting mean and dividing by std     | `from flax.nn.activation import standardize`      |\n",
    "|                    | one_hot            | One-hot encodes the given indices                              | `from flax.nn.activation import one_hot`          |\n"
   ]
  },
  {
   "cell_type": "markdown",
   "metadata": {},
   "source": [
    "| Module       | Function  | Description                                                   | Import Statement                             |\n",
    "|--------------|-----------|---------------------------------------------------------------|----------------------------------------------|\n",
    "| jax.tree     | all       | Call all() over the leaves of a tree.                        | `from jax.tree_util import all`             |\n",
    "|              | flatten   | Flattens a pytree.                                           | `from jax.tree_util import flatten`         |\n",
    "|              | leaves    | Gets the leaves of a pytree.                                 | `from jax.tree_util import leaves`          |\n",
    "|              | map       | Maps a multi-input function over pytree args to produce a new pytree. | `from jax.tree_util import map`      |\n",
    "|              | reduce    | Call reduce() over the leaves of a tree.                     | `from jax.tree_util import reduce`          |\n",
    "|              | structure | Gets the treedef for a pytree.                               | `from jax.tree_util import structure`       |\n",
    "|              | transpose | Transform a tree having tree structure (outer, inner) into one having structure (inner, outer). | `from jax.tree_util import transpose` |\n",
    "|              | unflatten | Reconstructs a pytree from the treedef and the leaves.       | `from jax.tree_util import unflatten`       |\n"
   ]
  },
  {
   "cell_type": "markdown",
   "metadata": {},
   "source": []
  },
  {
   "cell_type": "code",
   "execution_count": null,
   "metadata": {},
   "outputs": [],
   "source": []
  }
 ],
 "metadata": {
  "language_info": {
   "name": "python"
  }
 },
 "nbformat": 4,
 "nbformat_minor": 2
}
