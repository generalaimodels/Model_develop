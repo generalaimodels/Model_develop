{
  "nbformat": 4,
  "nbformat_minor": 0,
  "metadata": {
    "colab": {
      "provenance": []
    },
    "kernelspec": {
      "name": "python3",
      "display_name": "Python 3"
    },
    "language_info": {
      "name": "python"
    }
  },
  "cells": [
    {
      "cell_type": "code",
      "execution_count": null,
      "metadata": {
        "id": "AWhZtYZ-0KUI"
      },
      "outputs": [],
      "source": [
        "#!/bin/bash\n",
        "\n",
        "# Define the function to download PDFs\n",
        "download_pdfs() {\n",
        "    # Read each line in the input file\n",
        "    while IFS= read -r url; do\n",
        "        # Check if the URL ends with .pdf\n",
        "        if [[ \"$url\" == *.pdf ]]; then\n",
        "            # Use wget to download the PDF\n",
        "            wget \"$url\"\n",
        "        fi\n",
        "    done < \"$1\"  # Pass the input file as an argument\n",
        "}\n",
        "\n",
        "# Call the function and pass the input file containing URLs\n",
        "download_pdfs \"urls.txt\"\n"
      ]
    }
  ]
}