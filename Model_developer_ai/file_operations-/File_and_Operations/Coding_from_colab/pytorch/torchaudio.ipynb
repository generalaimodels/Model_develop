{
 "cells": [
  {
   "cell_type": "markdown",
   "metadata": {},
   "source": [
    "| Attribute/Function     | Description                                                                    | Example Snippet                                                                                                     |\n",
    "|------------------------|--------------------------------------------------------------------------------|----------------------------------------------------------------------------------------------------------------------|\n",
    "| AudioMetaData          | Class for storing audio metadata.                                              | Not Applicable                                                                                                       |\n",
    "| backend                | A backend to load audio files.                                                 | Not Applicable                                                                                                       |\n",
    "| compliance             | Supported audio compliance.                                                    | Not Applicable                                                                                                       |\n",
    "| datasets               | Datasets provided by torchaudio.                                               | Not Applicable                                                                                                       |\n",
    "| functional             | Functional module for audio signal processing.                                 | Not Applicable                                                                                                       |\n",
    "| get_audio_backend      | Function to get the audio backend being used.                                  | Not Applicable                                                                                                       |\n",
    "| git_version            | Returns the version of torchaudio from git.                                    | Not Applicable                                                                                                       |\n",
    "| info                   | Prints information about the torchaudio installation.                          | Not Applicable                                                                                                       |\n",
    "| io                     | Input/output operations for audio files.                                        | Not Applicable                                                                                                       |\n",
    "| kaldi_io               | IO functions for working with Kaldi data.                                      | Not Applicable                                                                                                       |\n",
    "| lib                    | Low-level bindings to the libsox library.                                      | Not Applicable                                                                                                       |\n",
    "| list_audio_backends    | Lists available audio backends.                                                | Not Applicable                                                                                                       |\n",
    "| load                   | Function to load audio data from file.                                         | ```python<br>import torchaudio<br>file_path = \"path/to/audio_file.wav\"<br>waveform, sample_rate = torchaudio.load(file_path)<br>print(\"Loaded waveform shape:\", waveform.shape)<br>print(\"Sample rate:\", sample_rate)``` |\n",
    "| models                 | Pre-trained models provided by torchaudio.                                      | Not Applicable                                                                                                       |\n",
    "| pipelines              | Audio processing pipelines.                                                    | Not Applicable                                                                                                       |\n",
    "| save                   | Function to save audio data to file.                                           | ```python<br>import torchaudio<br>file_path = \"path/to/audio_file.wav\"<br># Assuming waveform is already loaded<br>torchaudio.save(\"output.wav\", waveform, sample_rate)``` |\n",
    "| set_audio_backend      | Function to set the audio backend to be used.                                  | Not Applicable                                                                                                       |\n",
    "| sox_effects            | Effects provided by the SoX library.                                           | Not Applicable                                                                                                       |\n",
    "| transforms             | Audio transforms for data augmentation.                                        | Not Applicable                                                                                                       |\n",
    "| utils                  | Utility functions for audio processing.                                        | Not Applicable                                                                                                       |\n",
    "| version                | Returns the version of torchaudio.                                             | Not Applicable                                                                                                       |\n"
   ]
  },
  {
   "cell_type": "markdown",
   "metadata": {},
   "source": [
    "| Attribute/Function   | Description                                                    | Example Snippet                                                                                              |\n",
    "|----------------------|----------------------------------------------------------------|--------------------------------------------------------------------------------------------------------------|\n",
    "| StreamReader         | Alias of StreamingMediaDecoder.                                | Not Applicable                                                                                               |\n",
    "| StreamWriter         | Alias of StreamingMediaEncoder.                                | Not Applicable                                                                                               |\n",
    "| AudioEffector        | Apply various filters and/or codecs to waveforms.              | Not Applicable                                                                                               |\n",
    "| play_audio           | Plays audio through specified or available output device.      | ```python<br>import torchaudio<br>torchaudio.io.play_audio(waveform, sample_rate)```                         |\n"
   ]
  },
  {
   "cell_type": "markdown",
   "metadata": {},
   "source": [
    "| Function            | Description                                                             | Example Snippet                                                                                                    |\n",
    "|---------------------|-------------------------------------------------------------------------|--------------------------------------------------------------------------------------------------------------------|\n",
    "| allpass_biquad      | Design two-pole all-pass filter.                                        | Not Applicable                                                                                                     |\n",
    "| band_biquad         | Design two-pole band filter.                                             | Not Applicable                                                                                                     |\n",
    "| bandpass_biquad     | Design two-pole band-pass filter.                                        | Not Applicable                                                                                                     |\n",
    "| bandreject_biquad   | Design two-pole band-reject filter.                                      | Not Applicable                                                                                                     |\n",
    "| bass_biquad         | Design a bass tone-control effect.                                       | Not Applicable                                                                                                     |\n",
    "| biquad              | Perform a biquad filter of input tensor.                                 | Not Applicable                                                                                                     |\n",
    "| contrast            | Apply contrast effect.                                                   | Not Applicable                                                                                                     |\n",
    "| dcshift             | Apply a DC shift to the audio.                                           | Not Applicable                                                                                                     |\n",
    "| deemph_biquad       | Apply ISO 908 CD de-emphasis (shelving) IIR filter.                      | Not Applicable                                                                                                     |\n",
    "| dither              | Apply dither.                                                            | Not Applicable                                                                                                     |\n",
    "| equalizer_biquad    | Design biquad peaking equalizer filter and perform filtering.            | Not Applicable                                                                                                     |\n",
    "| filtfilt            | Apply an IIR filter forward and backward to a waveform.                  | Not Applicable                                                                                                     |\n",
    "| flanger             | Apply a flanger effect to the audio.                                     | Not Applicable                                                                                                     |\n",
    "| gain                | Apply amplification or attenuation to the whole waveform.                 | Not Applicable                                                                                                     |\n",
    "| highpass_biquad     | Design biquad highpass filter and perform filtering.                     | Not Applicable                                                                                                     |\n",
    "| lfilter             | Perform an IIR filter by evaluating difference equation.                 | Not Applicable                                                                                                     |\n",
    "| lowpass_biquad      | Design biquad lowpass filter and perform filtering.                      | Not Applicable                                                                                                     |\n",
    "| overdrive           | Apply an overdrive effect to the audio.                                  | Not Applicable                                                                                                     |\n",
    "| phaser              | Apply a phasing effect to the audio.                                     | Not Applicable                                                                                                     |\n",
    "| riaa_biquad         | Apply RIAA vinyl playback equalization.                                  | Not Applicable                                                                                                     |\n",
    "| treble_biquad       | Design a treble tone-control effect.                                     | Not Applicable                                                                                                     |\n"
   ]
  },
  {
   "cell_type": "markdown",
   "metadata": {},
   "source": [
    "| Function                 | Description                                                             | Example Snippet                                                                                                    |\n",
    "|--------------------------|-------------------------------------------------------------------------|--------------------------------------------------------------------------------------------------------------------|\n",
    "| vad                      | Voice Activity Detector.                                                 | ```python<br>import torchaudio<br>voice_activity = torchaudio.functional.vad(waveform, sample_rate)```            |\n",
    "| spectrogram              | Create a spectrogram or a batch of spectrograms from a raw audio signal. | ```python<br>import torchaudio<br>spectrogram = torchaudio.functional.spectrogram(waveform, sample_rate)```      |\n",
    "| inverse_spectrogram      | Create an inverse spectrogram or a batch of inverse spectrograms from the provided complex-valued spectrogram. | ```python<br>import torchaudio<br>inverse_spectrogram = torchaudio.functional.inverse_spectrogram(complex_spectrogram)``` |\n",
    "| griffinlim               | Compute waveform from a linear scale magnitude spectrogram using the Griffin-Lim transformation. | ```python<br>import torchaudio<br>waveform = torchaudio.functional.griffinlim(magnitude_spectrogram)```          |\n",
    "| phase_vocoder            | Given a STFT tensor, speed up in time without modifying pitch by a factor of rate. | ```python<br>import torchaudio<br>stft_tensor = ... # create STFT tensor<br>output_stft = torchaudio.functional.phase_vocoder(stft_tensor, rate)``` |\n",
    "| pitch_shift              | Shift the pitch of a waveform by n_steps steps.                         | ```python<br>import torchaudio<br>pitch_shifted_waveform = torchaudio.functional.pitch_shift(waveform, sample_rate, n_steps)``` |\n",
    "| compute_deltas           | Compute delta coefficients of a tensor, usually a spectrogram.           | ```python<br>import torchaudio<br>deltas = torchaudio.functional.compute_deltas(spectrogram)```                   |\n",
    "| detect_pitch_frequency  | Detect pitch frequency.                                                 | ```python<br>import torchaudio<br>pitch_frequency = torchaudio.functional.detect_pitch_frequency(waveform, sample_rate)``` |\n",
    "| sliding_window_cmn       | Apply sliding-window cepstral mean (and optionally variance) normalization per utterance. | ```python<br>import torchaudio<br>normalized_feature = torchaudio.functional.sliding_window_cmn(feature_tensor)``` |\n",
    "| spectral_centroid        | Compute the spectral centroid for each channel along the time axis.      | ```python<br>import torchaudio<br>centroid = torchaudio.functional.spectral_centroid(spectrogram)```              |\n"
   ]
  },
  {
   "cell_type": "markdown",
   "metadata": {},
   "source": [
    "| Function                 | Description                                                                                                 | Example Snippet                                                                                                    |\n",
    "|--------------------------|-------------------------------------------------------------------------------------------------------------|--------------------------------------------------------------------------------------------------------------------|\n",
    "| psd                      | Compute cross-channel power spectral density (PSD) matrix.                                                  | ```python<br>import torchaudio<br>psd_matrix = torchaudio.functional.psd(multi_channel_tensor)```                |\n",
    "| mvdr_weights_souden      | Compute the Minimum Variance Distortionless Response (MVDR) beamforming weights by the method proposed by Souden et al. | ```python<br>import torchaudio<br>mvdr_weights = torchaudio.functional.mvdr_weights_souden(psd_matrix)```       |\n",
    "| mvdr_weights_rtf         | Compute the Minimum Variance Distortionless Response (MVDR) beamforming weights based on the relative transfer function (RTF) and power spectral density (PSD) matrix of noise. | ```python<br>import torchaudio<br>mvdr_weights = torchaudio.functional.mvdr_weights_rtf(psd_matrix, rtf_matrix)``` |\n",
    "| rtf_evd                  | Estimate the relative transfer function (RTF) or the steering vector by eigenvalue decomposition.          | ```python<br>import torchaudio<br>rtf_matrix = torchaudio.functional.rtf_evd(multi_channel_tensor)```           |\n",
    "| rtf_power                | Estimate the relative transfer function (RTF) or the steering vector by the power method.                  | ```python<br>import torchaudio<br>rtf_matrix = torchaudio.functional.rtf_power(multi_channel_tensor)```         |\n",
    "| apply_beamforming        | Apply the beamforming weight to the multi-channel noisy spectrum to obtain the single-channel enhanced spectrum. | ```python<br>import torchaudio<br>enhanced_spectrum = torchaudio.functional.apply_beamforming(multi_channel_spectrum, beamforming_weights)``` |\n",
    "| rnnt_loss                | Compute the RNN Transducer loss from Sequence Transduction with Recurrent Neural Networks.                  | ```python<br>import torchaudio<br>loss = torchaudio.functional.rnnt_loss(output, target, input_lengths, target_lengths)``` |\n",
    "| edit_distance            | Calculate the word level edit (Levenshtein) distance between two sequences.                                 | ```python<br>import torchaudio<br>distance = torchaudio.functional.edit_distance(reference, hypothesis)```      |\n"
   ]
  },
  {
   "cell_type": "markdown",
   "metadata": {},
   "source": [
    "| Category          | Function               | Description                                                                                                       | Example Snippet                                                                                                     |\n",
    "|-------------------|------------------------|-------------------------------------------------------------------------------------------------------------------|---------------------------------------------------------------------------------------------------------------------|\n",
    "| Utility           | AmplitudeToDB          | Turn a tensor from the power/amplitude scale to the decibel scale.                                                | ```python<br>import torchaudio<br>db_tensor = torchaudio.transforms.AmplitudeToDB()(waveform)```                   |\n",
    "|                   | MuLawEncoding          | Encode signal based on mu-law companding.                                                                         | ```python<br>import torchaudio<br>mu_law_encoded = torchaudio.transforms.MuLawEncoding()(waveform)```             |\n",
    "|                   | MuLawDecoding          | Decode mu-law encoded signal.                                                                                     | ```python<br>import torchaudio<br>decoded_waveform = torchaudio.transforms.MuLawDecoding()(mu_law_encoded)```   |\n",
    "|                   | Resample               | Resample a signal from one frequency to another.                                                                  | ```python<br>import torchaudio<br>resampled_waveform = torchaudio.transforms.Resample(16000, 8000)(waveform)``` |\n",
    "|                   | Fade                   | Add a fade in and/or fade out to a waveform.                                                                      | Not Applicable                                                                                                     |\n",
    "|                   | Vol                    | Adjust volume of waveform.                                                                                        | Not Applicable                                                                                                     |\n",
    "|                   | Loudness               | Measure audio loudness according to the ITU-R BS.1770-4 recommendation.                                           | Not Applicable                                                                                                     |\n",
    "|                   | AddNoise               | Scales and adds noise to waveform per signal-to-noise ratio.                                                      | Not Applicable                                                                                                     |\n",
    "|                   | Convolve               | Convolves inputs along their last dimension using the direct method.                                               | Not Applicable                                                                                                     |\n",
    "|                   | FFTConvolve            | Convolves inputs along their last dimension using FFT.                                                             | Not Applicable                                                                                                     |\n",
    "|                   | Speed                  | Adjusts waveform speed.                                                                                           | Not Applicable                                                                                                     |\n",
    "|                   | SpeedPerturbation      | Applies the speed perturbation augmentation introduced in Audio augmentation for speech recognition.            | Not Applicable                                                                                                     |\n",
    "|                   | Deemphasis             | De-emphasizes a waveform along its last dimension.                                                                | Not Applicable                                                                                                     |\n",
    "|                   | Preemphasis            | Pre-emphasizes a waveform along its last dimension.                                                               | Not Applicable                                                                                                     |\n",
    "| Feature Extraction| Spectrogram            | Create a spectrogram from an audio signal.                                                                        | Not Applicable                                                                                                     |\n",
    "|                   | InverseSpectrogram     | Create an inverse spectrogram to recover an audio signal from a spectrogram.                                       | Not Applicable                                                                                                     |\n",
    "|                   | MelScale               | Turn a normal STFT into a mel frequency STFT with triangular filter banks.                                         | Not Applicable                                                                                                     |\n",
    "|                   | InverseMelScale        | Estimate a STFT in normal frequency domain from mel frequency domain.                                               | Not Applicable                                                                                                     |\n",
    "|                   | MelSpectrogram         | Create MelSpectrogram for a raw audio signal.                                                                     | Not Applicable                                                                                                     |\n",
    "|                   | GriffinLim             | Compute waveform from a linear scale magnitude spectrogram using the Griffin-Lim transformation.                  | Not Applicable                                                                                                     |\n",
    "|                   | MFCC                   | Create the Mel-frequency cepstrum coefficients from an audio signal.                                                | Not Applicable                                                                                                     |\n",
    "|                   | LFCC                   | Create the linear-frequency cepstrum coefficients from an audio signal.                                             | Not Applicable                                                                                                     |\n",
    "|                   | ComputeDeltas          | Compute delta coefficients of a tensor, usually a spectrogram.                                                     | Not Applicable                                                                                                     |\n",
    "|                   | PitchShift             | Shift the pitch of a waveform by n_steps steps.                                                                   | Not Applicable                                                                                                     |\n",
    "|                   | SlidingWindowCmn       | Apply sliding-window cepstral mean (and optionally variance) normalization per utterance.                          | Not Applicable                                                                                                     |\n",
    "|                   | SpectralCentroid       | Compute the spectral centroid for each channel along the time axis.                                                | Not Applicable                                                                                                     |\n",
    "|                   | Vad                    | Voice Activity Detector.                                                                                          | Not Applicable                                                                                                     |\n",
    "| Augmentations     | FrequencyMasking       | Apply masking to a spectrogram in the frequency domain.                                                           | Not Applicable                                                                                                     |\n",
    "|                   | TimeMasking            | Apply masking to a spectrogram in the time domain.                                                                | Not Applicable                                                                                                     |\n",
    "|                   | TimeStretch            | Stretch stft in time without modifying pitch for a given rate.                                                     | Not Applicable                                                                                                     |\n",
    "| Loss              | RNNTLoss               | Compute the RNN Transducer loss from Sequence Transduction with Recurrent Neural Networks.                        | Not Applicable                                                                                                     |\n",
    "| Multi-channel     | PSD                    | Compute cross-channel power spectral density (PSD) matrix.                                                         | Not Applicable                                                                                                     |\n",
    "|                   | MVDR                   | Minimum Variance Distortionless Response (MVDR) module that performs MVDR beamforming with Time-Frequency masks.   | Not Applicable                                                                                                     |\n",
    "|                   | RTFMVDR                | Minimum Variance Distortionless Response (MVDR) module based on the relative transfer function (RTF) and power spectral density (PSD) matrix of noise. | Not Applicable                                                                                                     |\n",
    "|                   | SoudenMVDR             | Minimum Variance Distortionless Response (MVDR) module based on the method proposed by Souden et al.              | Not Applicable                                                                                                     |\n"
   ]
  },
  {
   "cell_type": "markdown",
   "metadata": {},
   "source": [
    "```python\n",
    "yesno_data = torchaudio.datasets.YESNO('.', download=True)\n",
    "data_loader = torch.utils.data.DataLoader(\n",
    "    yesno_data,\n",
    "    batch_size=1,\n",
    "    shuffle=True,\n",
    "    num_workers=args.nThreads)\n",
    "```"
   ]
  },
  {
   "cell_type": "markdown",
   "metadata": {},
   "source": [
    "| Dataset                     | Description                                                | Example Snippet                                                                                   |\n",
    "|-----------------------------|------------------------------------------------------------|---------------------------------------------------------------------------------------------------|\n",
    "| CMUARCTIC                   | CMU ARCTIC dataset [Kominek et al., 2003].                 | Not Applicable                                                                                    |\n",
    "| CMUDict                     | CMU Pronouncing Dictionary dataset [Weide, 1998].           | Not Applicable                                                                                    |\n",
    "| COMMONVOICE                 | CommonVoice dataset [Ardila et al., 2020].                  | Not Applicable                                                                                    |\n",
    "| DR_VCTK                     | Device Recorded VCTK (Small subset version) dataset [Sarfjoo and Yamagishi, 2018]. | Not Applicable                                                            |\n",
    "| FluentSpeechCommands        | Fluent Speech Commands dataset [Lugosch et al., 2019].     | Not Applicable                                                                                    |\n",
    "| GTZAN                       | GTZAN dataset [Tzanetakis et al., 2001].                   | Not Applicable                                                                                    |\n",
    "| IEMOCAP                     | IEMOCAP dataset [Busso et al., 2008].                      | Not Applicable                                                                                    |\n",
    "| LibriMix                    | LibriMix dataset [Cosentino et al., 2020].                 | Not Applicable                                                                                    |\n",
    "| LIBRISPEECH                 | LibriSpeech dataset [Panayotov et al., 2015].              | Not Applicable                                                                                    |\n",
    "| LibriLightLimited           | Subset of Libri-light dataset [Kahn et al., 2020].         | Not Applicable                                                                                    |\n",
    "| LIBRITTS                    | LibriTTS dataset [Zen et al., 2019].                       | Not Applicable                                                                                    |\n",
    "| LJSPEECH                    | LJSpeech-1.1 dataset [Ito and Johnson, 2017].              | Not Applicable                                                                                    |\n",
    "| MUSDB_HQ                    | MUSDB_HQ dataset [Rafii et al., 2019].                     | Not Applicable                                                                                    |\n",
    "| QUESST14                    | QUESST14 dataset [Miro et al., 2015].                      | Not Applicable                                                                                    |\n",
    "| Snips                       | Snips dataset [Coucke et al., 2018].                       | Not Applicable                                                                                    |\n",
    "| SPEECHCOMMANDS              | Speech Commands dataset [Warden, 2018].                    | Not Applicable                                                                                    |\n",
    "| TEDLIUM                     | Tedlium dataset [Rousseau et al., 2012].                   | Not Applicable                                                                                    |\n",
    "| VCTK_092                    | VCTK 0.92 dataset [Yamagishi et al., 2019].               | Not Applicable                                                                                    |\n",
    "| VoxCeleb1Identification     | VoxCeleb1 dataset for speaker identification task [Nagrani et al., 2017]. | Not Applicable                                                                   |\n",
    "| VoxCeleb1Verification       | VoxCeleb1 dataset for speaker verification task [Nagrani et al., 2017]. | Not Applicable                                                                   |\n",
    "| YESNO                       | YesNo dataset.                                             | ```python<br>import torchaudio<br>yesno_data = torchaudio.datasets.YESNO('.', download=True)<br>data_loader = torch.utils.data.DataLoader(yesno_data, batch_size=1, shuffle=True, num_workers=args.nThreads)``` |\n"
   ]
  },
  {
   "cell_type": "markdown",
   "metadata": {},
   "source": []
  },
  {
   "cell_type": "code",
   "execution_count": null,
   "metadata": {},
   "outputs": [],
   "source": []
  }
 ],
 "metadata": {
  "language_info": {
   "name": "python"
  }
 },
 "nbformat": 4,
 "nbformat_minor": 2
}
