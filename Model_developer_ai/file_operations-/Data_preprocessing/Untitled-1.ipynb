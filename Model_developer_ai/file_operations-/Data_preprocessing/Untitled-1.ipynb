{
 "cells": [
  {
   "cell_type": "code",
   "execution_count": null,
   "metadata": {},
   "outputs": [],
   "source": []
  },
  {
   "cell_type": "code",
   "execution_count": 1,
   "metadata": {},
   "outputs": [
    {
     "name": "stdout",
     "output_type": "stream",
     "text": [
      "Input tensor shape: torch.Size([5, 6, 7])\n",
      "Output tensor shape: torch.Size([4, 2, 2, 2, 3, 4])\n"
     ]
    },
    {
     "ename": "",
     "evalue": "",
     "output_type": "error",
     "traceback": [
      "\u001b[1;31mThe Kernel crashed while executing code in the current cell or a previous cell. \n",
      "\u001b[1;31mPlease review the code in the cell(s) to identify a possible cause of the failure. \n",
      "\u001b[1;31mClick <a href='https://aka.ms/vscodeJupyterKernelCrash'>here</a> for more info. \n",
      "\u001b[1;31mView Jupyter <a href='command:jupyter.viewOutput'>log</a> for further details."
     ]
    }
   ],
   "source": [
    "import torch\n",
    "from typing import Union, Tuple\n",
    "\n",
    "def sliding_window(data: torch.Tensor, window_size: Union[int, Tuple[int, ...]], stride: Union[int, Tuple[int, ...]] = 1, padding: str = 'valid') -> torch.Tensor:\n",
    "    \"\"\"\n",
    "    Split a tensor into smaller tensors using a sliding window approach.\n",
    "\n",
    "    Args:\n",
    "        data (torch.Tensor): The input tensor of any dimension.\n",
    "        window_size (int or tuple): The size of the sliding window. If an integer, the same size is used for all dimensions.\n",
    "                                     If a tuple, it specifies the window size for each dimension.\n",
    "        stride (int or tuple, optional): The stride of the sliding window. If an integer, the same stride is used for all dimensions.\n",
    "                                          If a tuple, it specifies the stride for each dimension. Default is 1.\n",
    "        padding (str, optional): The padding mode. Can be 'valid' (no padding) or 'same' (pad to maintain the original shape).\n",
    "                                 Default is 'valid'.\n",
    "\n",
    "    Returns:\n",
    "        torch.Tensor: The output tensor containing the extracted subsequences.\n",
    "    \"\"\"\n",
    "    # Convert window_size and stride to tuples if they are integers\n",
    "    if isinstance(window_size, int):\n",
    "        window_size = (window_size,) * data.ndim\n",
    "    if isinstance(stride, int):\n",
    "        stride = (stride,) * data.ndim\n",
    "\n",
    "    # Compute the output shape based on the input shape, window size, stride, and padding\n",
    "    output_shape = tuple((data.size(i) - window_size[i]) // stride[i] + 1 for i in range(data.ndim))\n",
    "    output_shape += window_size\n",
    "\n",
    "    # Create a view of the input tensor with the sliding window dimensions\n",
    "    view_shape = tuple(output_shape[:data.ndim]) + tuple(window_size)\n",
    "    strides = tuple(stride[i] * data.stride(i) for i in range(data.ndim)) + data.stride()\n",
    "    strided_data = data.as_strided(size=view_shape, stride=strides)\n",
    "\n",
    "    # Apply padding if specified\n",
    "    if padding == 'same':\n",
    "        pad_width = tuple((0, (output_shape[i] - 1) * stride[i] + window_size[i] - data.size(i)) for i in range(data.ndim))\n",
    "        strided_data = torch.nn.functional.pad(strided_data, pad_width, mode='constant')\n",
    "\n",
    "    return strided_data\n",
    "\n",
    "# Example usage\n",
    "data = torch.randint(0, 10, size=(5, 6, 7))\n",
    "window_size = (2, 3, 4)\n",
    "stride = (1, 2, 2)  \n",
    "subsequences = sliding_window(data, window_size, stride, padding='valid')\n",
    "\n",
    "print(f\"Input tensor shape: {data.shape}\")\n",
    "print(f\"Output tensor shape: {subsequences.shape}\")\n"
   ]
  }
 ],
 "metadata": {
  "kernelspec": {
   "display_name": "Python 3",
   "language": "python",
   "name": "python3"
  },
  "language_info": {
   "codemirror_mode": {
    "name": "ipython",
    "version": 3
   },
   "file_extension": ".py",
   "mimetype": "text/x-python",
   "name": "python",
   "nbconvert_exporter": "python",
   "pygments_lexer": "ipython3",
   "version": "3.11.4"
  }
 },
 "nbformat": 4,
 "nbformat_minor": 2
}
